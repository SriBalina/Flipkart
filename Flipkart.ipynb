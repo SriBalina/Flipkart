{
  "nbformat": 4,
  "nbformat_minor": 0,
  "metadata": {
    "colab": {
      "provenance": []
    },
    "kernelspec": {
      "name": "python3",
      "display_name": "Python 3"
    },
    "language_info": {
      "name": "python"
    }
  },
  "cells": [
    {
      "cell_type": "markdown",
      "source": [
        "# Personalized Product Recommendation System Documentation\n",
        "\n",
        "## Introduction\n",
        "\n",
        "The Personalized Product Recommendation System is designed to enhance user experience by providing accurate and relevant product recommendations based on individual user preferences, past interactions, product popularity, and user similarity. This document outlines the process of creating fake data and introduces the three essential databases used in building the recommendation system.\n",
        "\n",
        "## Creating Fake Data\n",
        "\n",
        "To prototype and test the recommendation algorithm, we generated synthetic data to simulate user interactions, product information, and user preferences. The synthetic data includes fields such as user IDs, product IDs, interaction types, ratings, and timestamps. This fake data allows us to create a controlled environment for developing and evaluating the recommendation system.\n",
        "\n",
        "## User Interactions Database\n",
        "\n",
        "The user interactions database captures historical user interactions with products on the platform. It includes the following fields:\n",
        "\n",
        "- User ID: Unique identifier for each user.\n",
        "- Product ID: Unique identifier for each product.\n",
        "- Interaction Type: Indicates the type of interaction (click, purchase, etc.).\n",
        "- Rating: User-provided ratings for products.\n",
        "- Timestamp: Date and time of the interaction.\n",
        "\n",
        "This database serves as the foundation for training the recommendation algorithm and learning user preferences from historical interactions.\n",
        "\n",
        "## Product Information Database\n",
        "\n",
        "The product information database contains details about the products available on the platform. It includes the following fields:\n",
        "\n",
        "- Product ID: Unique identifier for each product.\n",
        "- Product Name: Name of the product.\n",
        "- Category: Category or type of the product.\n",
        "- Description: Brief description of the product.\n",
        "- Additional Attributes: Other relevant features or attributes.\n",
        "\n",
        "This database provides contextual information about products, enabling the recommendation algorithm to consider product attributes when generating recommendations.\n",
        "\n",
        "## User Preferences Database\n",
        "\n",
        "The user preferences database stores user attributes and characteristics that influence recommendations. It includes the following fields:\n",
        "\n",
        "- User ID: Unique identifier for each user.\n",
        "- User Attributes: Features describing user preferences, demographics, behavior, etc.\n",
        "\n",
        "These attributes personalize the recommendation process, allowing the algorithm to tailor recommendations to individual user characteristics.\n",
        "\n",
        "## Conclusion\n",
        "\n",
        "The combination of creating synthetic data and utilizing the user interactions, product information, and user preferences databases forms the foundation of our Personalized Product Recommendation System. By considering historical interactions, product attributes, and user preferences, the recommendation algorithm generates accurate and relevant recommendations, enhancing user engagement and satisfaction.\n",
        "\n",
        "---\n"
      ],
      "metadata": {
        "id": "9kMTJ5vEegPr"
      }
    },
    {
      "cell_type": "code",
      "execution_count": 42,
      "metadata": {
        "id": "Sb4ewHTSUS-j"
      },
      "outputs": [],
      "source": [
        "import pandas as pd\n",
        "import random\n",
        "from faker import Faker\n",
        "from datetime import datetime, timedelta\n",
        "\n",
        "# Initialize Faker for generating fake data\n",
        "fake = Faker()\n",
        "\n",
        "# Generate products_info\n",
        "num_products = 100\n",
        "products_data = []\n",
        "for _ in range(num_products):\n",
        "    product_id = f'P{str(_ + 1).zfill(3)}'\n",
        "    category = random.choice(['Electronics', 'Clothing', 'Books', 'Beauty'])\n",
        "    brand = fake.company()\n",
        "    avg_rating = round(random.uniform(3.5, 5.0), 2)\n",
        "    num_reviews = random.randint(50, 300)\n",
        "    num_purchases = random.randint(50, 200)\n",
        "    num_views = random.randint(1000, 5000)\n",
        "    products_data.append([product_id, category, brand, avg_rating, num_reviews, num_purchases, num_views])\n",
        "\n",
        "products_df = pd.DataFrame(products_data, columns=['product_id', 'category', 'brand', 'avg_rating', 'num_reviews', 'num_purchases', 'num_views'])\n",
        "products_df.to_csv('products_info.csv', index=False)\n",
        "\n",
        "# Generate user_info\n",
        "num_users = 200\n",
        "users_data = []\n",
        "for _ in range(num_users):\n",
        "    user_id = f'U{str(_ + 1).zfill(3)}'\n",
        "    age = random.randint(18, 60)\n",
        "    gender = random.choice(['Male', 'Female'])\n",
        "    state = random.choice(['Andhra Pradesh', 'Maharashtra', 'Karnataka', 'Tamil Nadu', 'Uttar Pradesh'])\n",
        "    favorite_category = random.choice(['Electronics', 'Clothing', 'Books', 'Beauty'])\n",
        "    users_data.append([user_id, age, gender, state, favorite_category])\n",
        "\n",
        "users_df = pd.DataFrame(users_data, columns=['user_id', 'age', 'gender', 'state', 'favorite_category'])\n",
        "users_df.to_csv('user_info.csv', index=False)\n",
        "\n",
        "# Generate user_interactions\n",
        "user_interactions_data = []\n",
        "for user_id in users_df['user_id']:\n",
        "    num_interactions = random.randint(3, 10)\n",
        "    interaction_dates = [datetime(2023, 1, 1) + timedelta(days=random.randint(0, 180)) for _ in range(num_interactions)]\n",
        "    for _ in range(num_interactions):\n",
        "        product_id = random.choice(products_df['product_id'])\n",
        "        interaction_type = random.choice(['Purchase', 'Click', 'Review'])\n",
        "        rating = round(random.uniform(1.0, 5.0), 1) if interaction_type == 'Purchase' else '-'\n",
        "        review = fake.sentence() if interaction_type == 'Review' else '-'\n",
        "        interaction_date = interaction_dates.pop()\n",
        "        user_interactions_data.append([user_id, product_id, interaction_type, rating, review, interaction_date])\n",
        "\n",
        "user_interactions_df = pd.DataFrame(user_interactions_data, columns=['user_id', 'product_id', 'interaction_type', 'rating', 'review', 'interaction_date'])\n",
        "user_interactions_df.to_csv('user_interactions.csv', index=False)\n"
      ]
    },
    {
      "cell_type": "markdown",
      "source": [
        "## Data Preparation\n",
        "The raw data includes user interactions, product attributes, and user preferences. I begin by loading and cleaning the data to ensure its quality and consistency."
      ],
      "metadata": {
        "id": "LCl5O8_zdk4W"
      }
    },
    {
      "cell_type": "code",
      "source": [
        "import pandas as pd\n",
        "\n",
        "# Load interactions data\n",
        "interactions_df = pd.read_csv('user_interactions.csv')\n",
        "\n",
        "# Convert non-numeric ratings to NaN\n",
        "interactions_df['rating'] = pd.to_numeric(interactions_df['rating'], errors='coerce')\n",
        "\n",
        "# Filter out rows with NaN ratings\n",
        "interactions_df = interactions_df.dropna(subset=['rating'])\n"
      ],
      "metadata": {
        "id": "s5txPqEDdZAG"
      },
      "execution_count": 43,
      "outputs": []
    },
    {
      "cell_type": "markdown",
      "source": [
        "## Feature Engineering\n",
        "I create interaction matrices and encode categorical variables to prepare the data for model training.\n",
        "\n"
      ],
      "metadata": {
        "id": "-NlLzGXPdonn"
      }
    },
    {
      "cell_type": "code",
      "source": [
        "from surprise import Dataset, Reader\n",
        "from surprise.model_selection import train_test_split\n",
        "\n",
        "# Define the Reader object\n",
        "reader = Reader(rating_scale=(1, 5))\n",
        "\n",
        "# Load data into Surprise's Dataset format\n",
        "data = Dataset.load_from_df(interactions_df[['user_id', 'product_id', 'rating']], reader)\n",
        "\n",
        "# Split data into train and test sets\n",
        "trainset, testset = train_test_split(data, test_size=0.2, random_state=42)\n"
      ],
      "metadata": {
        "id": "_vWnDEIfdryx"
      },
      "execution_count": 44,
      "outputs": []
    },
    {
      "cell_type": "markdown",
      "source": [
        "## Model Selection and Training\n",
        "I opt for a user-based collaborative filtering approach using the KNNBasic algorithm for generating recommendations."
      ],
      "metadata": {
        "id": "fvoXvJXjdun0"
      }
    },
    {
      "cell_type": "code",
      "source": [
        "from surprise import KNNBasic\n",
        "\n",
        "# Define and train the model\n",
        "sim_options = {'name': 'cosine', 'user_based': True}\n",
        "model = KNNBasic(sim_options=sim_options)\n",
        "model.fit(trainset)\n"
      ],
      "metadata": {
        "colab": {
          "base_uri": "https://localhost:8080/",
          "height": 0
        },
        "id": "jL_3iGARdr9s",
        "outputId": "51169f62-838f-4738-93ae-b43996365e31"
      },
      "execution_count": 45,
      "outputs": [
        {
          "output_type": "stream",
          "name": "stdout",
          "text": [
            "Computing the cosine similarity matrix...\n",
            "Done computing similarity matrix.\n"
          ]
        },
        {
          "output_type": "execute_result",
          "data": {
            "text/plain": [
              "<surprise.prediction_algorithms.knns.KNNBasic at 0x78e448c0cf10>"
            ]
          },
          "metadata": {},
          "execution_count": 45
        }
      ]
    },
    {
      "cell_type": "markdown",
      "source": [
        "## User Interaction and Recommendations\n",
        "Users are prompted to provide their user ID for receiving personalized recommendations."
      ],
      "metadata": {
        "id": "-CxjkCQvdz1o"
      }
    },
    {
      "cell_type": "code",
      "source": [
        "from surprise import KNNBasic\n",
        "import numpy as np\n",
        "\n",
        "# Define and train the KNNBasic model\n",
        "sim_options = {'name': 'cosine', 'user_based': True}\n",
        "model = KNNBasic(sim_options=sim_options)\n",
        "model.fit(trainset)\n",
        "\n",
        "# Get user input for product recommendations\n",
        "user_id = input(\"Enter a user ID for product recommendations: \")\n",
        "num_recommendations = 15  # we can adjust the number of recommendations\n",
        "\n",
        "# Generate personalized recommendations for the input user\n",
        "user_items = interactions_df[interactions_df['user_id'] == user_id]['product_id']\n",
        "user_unseen_items = [item for item in interactions_df['product_id'].unique() if item not in user_items]\n",
        "\n",
        "# Calculate predicted ratings for unseen items\n",
        "user_unseen_predictions = np.array([model.predict(user_id, item).est for item in user_unseen_items])\n",
        "\n",
        "# Sort unseen items by predicted ratings in descending order\n",
        "recommended_indices = np.argsort(user_unseen_predictions)[::-1]\n",
        "recommended_products = [user_unseen_items[i] for i in recommended_indices]\n",
        "\n",
        "# Display ranked list of recommended products\n",
        "print(f\"Ranked list of recommended products for user {user_id}:\")\n",
        "for i, product in enumerate(recommended_products[:num_recommendations], start=1):\n",
        "    print(f\"{i}. {product}\")\n"
      ],
      "metadata": {
        "colab": {
          "base_uri": "https://localhost:8080/",
          "height": 0
        },
        "id": "rhubJS0Td0LH",
        "outputId": "ec0002f2-3915-44a5-8eef-3a5beadd54ce"
      },
      "execution_count": 46,
      "outputs": [
        {
          "output_type": "stream",
          "name": "stdout",
          "text": [
            "Computing the cosine similarity matrix...\n",
            "Done computing similarity matrix.\n",
            "Enter a user ID for product recommendations: 142\n",
            "Ranked list of recommended products for user 142:\n",
            "1. P044\n",
            "2. P039\n",
            "3. P035\n",
            "4. P079\n",
            "5. P020\n",
            "6. P090\n",
            "7. P071\n",
            "8. P022\n",
            "9. P086\n",
            "10. P023\n",
            "11. P051\n",
            "12. P050\n",
            "13. P096\n",
            "14. P040\n",
            "15. P075\n"
          ]
        }
      ]
    },
    {
      "cell_type": "markdown",
      "source": [
        "## Visualization and Reporting\n",
        "Visualizations are created to provide insights into average product ratings, product sales trends, and user similarity matrix."
      ],
      "metadata": {
        "id": "Icv-42ORd7oJ"
      }
    },
    {
      "cell_type": "code",
      "source": [
        "import matplotlib.pyplot as plt\n",
        "import seaborn as sns\n",
        "\n",
        "# Calculate average ratings per product\n",
        "product_likes = interactions_df.groupby('product_id')['rating'].mean()\n",
        "\n",
        "# Plot average ratings per product\n",
        "plt.figure(figsize=(10, 6))\n",
        "product_likes.sort_values(ascending=False).plot(kind='bar')\n",
        "plt.title('Average Ratings per Product')\n",
        "plt.xlabel('Product ID')\n",
        "plt.ylabel('Average Rating')\n",
        "plt.xticks(rotation=45)\n",
        "plt.tight_layout()\n",
        "plt.show()\n",
        "\n",
        "\n"
      ],
      "metadata": {
        "colab": {
          "base_uri": "https://localhost:8080/",
          "height": 607
        },
        "id": "_KN0bAI1d-dr",
        "outputId": "10ff5c8d-bb02-416d-e63f-0fa31a475fdf"
      },
      "execution_count": 47,
      "outputs": [
        {
          "output_type": "display_data",
          "data": {
            "text/plain": [
              "<Figure size 1000x600 with 1 Axes>"
            ],
            "image/png": "[encoded data removed]"
          },
          "metadata": {}
        }
      ]
    },
    {
      "cell_type": "markdown",
      "source": [],
      "metadata": {
        "id": "08ig9EIbmiKw"
      }
    },
    {
      "cell_type": "code",
      "source": [
        "# Define a function to create a matrix-like representation\n",
        "def create_matrix(predictions, num_items, threshold=3.5):\n",
        "    matrix = [[0, 0], [0, 0]]  # Rows: True (above threshold), False (below threshold); Columns: Estimated (above threshold), Estimated (below threshold)\n",
        "\n",
        "    for uid, iid, true_r, est, _ in predictions:\n",
        "        true_label = 1 if true_r >= threshold else 0\n",
        "        est_label = 1 if est >= threshold else 0\n",
        "        matrix[true_label][est_label] += 1\n",
        "\n",
        "    return matrix\n",
        "\n",
        "# Make predictions on the test set\n",
        "test_predictions = model.test(testset)\n",
        "\n",
        "# Create the matrix-like representation\n",
        "num_items = len(interactions_df['product_id'].unique())\n",
        "matrix = create_matrix(test_predictions, num_items)\n",
        "\n",
        "# Print the matrix-like representation\n",
        "print(\"Confusion Matrix:\")\n",
        "print(\"                   Estimated\")\n",
        "print(\"                 Above    Below\")\n",
        "print(f\"True Above   {matrix[1][1]:>8} {matrix[1][0]:>6}\")\n",
        "print(f\"True Below   {matrix[0][1]:>8} {matrix[0][0]:>6}\")\n",
        "\n",
        "print()\n",
        "print()\n",
        "from surprise import accuracy\n",
        "\n",
        "# Make predictions on the test set\n",
        "test_predictions = model.test(testset)\n",
        "\n",
        "# Calculate MAE and RMSE\n",
        "mae = accuracy.mae(test_predictions)\n",
        "rmse = accuracy.rmse(test_predictions)\n",
        "\n",
        "print(f\"Mean Absolute Error (MAE): {mae:.4f}\")\n",
        "print(f\"Root Mean Squared Error (RMSE): {rmse:.4f}\")\n",
        "\n"
      ],
      "metadata": {
        "colab": {
          "base_uri": "https://localhost:8080/"
        },
        "id": "EwXz0QstmiW3",
        "outputId": "f01b8b64-276a-4dbe-a84e-918fe2d7eaa1"
      },
      "execution_count": 67,
      "outputs": [
        {
          "output_type": "stream",
          "name": "stdout",
          "text": [
            "Confusion Matrix:\n",
            "                   Estimated\n",
            "                 Above    Below\n",
            "True Above         43     87\n",
            "True Below         19    199\n",
            "\n",
            "\n",
            "MAE:  0.8187\n",
            "RMSE: 0.9930\n",
            "Mean Absolute Error (MAE): 0.8187\n",
            "Root Mean Squared Error (RMSE): 0.9930\n"
          ]
        }
      ]
    },
    {
      "cell_type": "code",
      "source": [],
      "metadata": {
        "id": "Z3R9-I6Mo9A6"
      },
      "execution_count": 67,
      "outputs": []
    },
    {
      "cell_type": "markdown",
      "source": [],
      "metadata": {
        "id": "T0hgdbMleFfp"
      }
    }
  ]
}